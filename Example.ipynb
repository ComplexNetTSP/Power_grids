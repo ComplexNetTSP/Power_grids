{
 "cells": [
  {
   "cell_type": "markdown",
   "metadata": {},
   "source": [
    "# Example Notebook"
   ]
  },
  {
   "cell_type": "code",
   "execution_count": 128,
   "metadata": {
    "collapsed": false
   },
   "outputs": [
    {
     "name": "stdout",
     "output_type": "stream",
     "text": [
      "Populating the interactive namespace from numpy and matplotlib\n"
     ]
    }
   ],
   "source": [
    "%pylab inline"
   ]
  },
  {
   "cell_type": "markdown",
   "metadata": {},
   "source": [
    "### Load node data "
   ]
  },
  {
   "cell_type": "code",
   "execution_count": 543,
   "metadata": {
    "collapsed": false
   },
   "outputs": [],
   "source": [
    "import csv\n",
    "country = 'South_America'\n",
    "nodes=[]\n",
    "with open('./Continents/%s/Nodes/heuristic_vertices.csv'%country, 'rb') as csvfile:\n",
    "    reader = csv.reader(csvfile, delimiter='#')\n",
    "    for row in reader:\n",
    "        if len(row)==14:\n",
    "            nodes.append(row)\n",
    "        else:\n",
    "            if len(row[0].split('#'))==14:\n",
    "                nodes.append(row[0].split('#'))\n",
    "            else:\n",
    "                print row"
   ]
  },
  {
   "cell_type": "code",
   "execution_count": 134,
   "metadata": {
    "collapsed": false
   },
   "outputs": [
    {
     "data": {
      "text/plain": [
       "['606',\n",
       " '-0.457082399833206',\n",
       " '52.1615418946316',\n",
       " 'sub_station',\n",
       " '',\n",
       " '',\n",
       " '',\n",
       " 'EDF',\n",
       " '',\n",
       " '',\n",
       " '',\n",
       " '',\n",
       " '',\n",
       " 'SRID=4326;POINT(-0.457082399833206 52.1615418946316)']"
      ]
     },
     "execution_count": 134,
     "metadata": {},
     "output_type": "execute_result"
    }
   ],
   "source": [
    "nodes[10]"
   ]
  },
  {
   "cell_type": "code",
   "execution_count": 89,
   "metadata": {
    "collapsed": false
   },
   "outputs": [],
   "source": [
    "nodes[0][-1] = nodes[0][-1][:13]"
   ]
  },
  {
   "cell_type": "code",
   "execution_count": 91,
   "metadata": {
    "collapsed": false
   },
   "outputs": [],
   "source": [
    "for n in range(1,len(nodes)):\n",
    "    nodes[n][-1] = nodes[n][-1].split(')')[0]+')'"
   ]
  },
  {
   "cell_type": "code",
   "execution_count": 544,
   "metadata": {
    "collapsed": false
   },
   "outputs": [],
   "source": [
    "import pandas as pd\n",
    "nodes = pd.DataFrame(nodes[1:], columns=nodes[0])"
   ]
  },
  {
   "cell_type": "code",
   "execution_count": 515,
   "metadata": {
    "collapsed": false
   },
   "outputs": [
    {
     "data": {
      "text/html": [
       "<div>\n",
       "<table border=\"1\" class=\"dataframe\">\n",
       "  <thead>\n",
       "    <tr style=\"text-align: right;\">\n",
       "      <th></th>\n",
       "      <th>v_id</th>\n",
       "      <th>lon</th>\n",
       "      <th>lat</th>\n",
       "      <th>typ</th>\n",
       "      <th>voltage</th>\n",
       "      <th>frequency</th>\n",
       "      <th>name</th>\n",
       "      <th>operator</th>\n",
       "      <th>ref</th>\n",
       "      <th>source</th>\n",
       "      <th>n_gen</th>\n",
       "      <th>capacity</th>\n",
       "      <th>net_capacity</th>\n",
       "      <th>wkt_srid_4326</th>\n",
       "    </tr>\n",
       "  </thead>\n",
       "  <tbody>\n",
       "    <tr>\n",
       "      <th>0</th>\n",
       "      <td>645</td>\n",
       "      <td>153.004387896756</td>\n",
       "      <td>-27.5307877200188</td>\n",
       "      <td>substation</td>\n",
       "      <td></td>\n",
       "      <td></td>\n",
       "      <td></td>\n",
       "      <td></td>\n",
       "      <td></td>\n",
       "      <td></td>\n",
       "      <td></td>\n",
       "      <td></td>\n",
       "      <td></td>\n",
       "      <td>SRID=4326;POINT(153.004387896756 -27.530787720...</td>\n",
       "    </tr>\n",
       "    <tr>\n",
       "      <th>1</th>\n",
       "      <td>1131</td>\n",
       "      <td>148.42813642835</td>\n",
       "      <td>-23.1293189405478</td>\n",
       "      <td>station</td>\n",
       "      <td></td>\n",
       "      <td></td>\n",
       "      <td></td>\n",
       "      <td></td>\n",
       "      <td></td>\n",
       "      <td></td>\n",
       "      <td></td>\n",
       "      <td></td>\n",
       "      <td></td>\n",
       "      <td>SRID=4326;POINT(148.42813642835 -23.1293189405...</td>\n",
       "    </tr>\n",
       "    <tr>\n",
       "      <th>2</th>\n",
       "      <td>1132</td>\n",
       "      <td>149.014170106351</td>\n",
       "      <td>-21.1596243538672</td>\n",
       "      <td>station</td>\n",
       "      <td></td>\n",
       "      <td></td>\n",
       "      <td></td>\n",
       "      <td></td>\n",
       "      <td></td>\n",
       "      <td></td>\n",
       "      <td></td>\n",
       "      <td></td>\n",
       "      <td></td>\n",
       "      <td>SRID=4326;POINT(149.014170106351 -21.159624353...</td>\n",
       "    </tr>\n",
       "  </tbody>\n",
       "</table>\n",
       "</div>"
      ],
      "text/plain": [
       "   v_id               lon                lat         typ voltage frequency  \\\n",
       "0   645  153.004387896756  -27.5307877200188  substation                     \n",
       "1  1131   148.42813642835  -23.1293189405478     station                     \n",
       "2  1132  149.014170106351  -21.1596243538672     station                     \n",
       "\n",
       "  name operator ref source n_gen capacity net_capacity  \\\n",
       "0                                                        \n",
       "1                                                        \n",
       "2                                                        \n",
       "\n",
       "                                       wkt_srid_4326  \n",
       "0  SRID=4326;POINT(153.004387896756 -27.530787720...  \n",
       "1  SRID=4326;POINT(148.42813642835 -23.1293189405...  \n",
       "2  SRID=4326;POINT(149.014170106351 -21.159624353...  "
      ]
     },
     "execution_count": 515,
     "metadata": {},
     "output_type": "execute_result"
    }
   ],
   "source": [
    "nodes.head(3)"
   ]
  },
  {
   "cell_type": "code",
   "execution_count": 130,
   "metadata": {
    "collapsed": false
   },
   "outputs": [
    {
     "ename": "CParserError",
     "evalue": "Error tokenizing data. C error: Expected 14 fields in line 2611, saw 17\n",
     "output_type": "error",
     "traceback": [
      "\u001b[1;31m---------------------------------------------------------------------------\u001b[0m",
      "\u001b[1;31mCParserError\u001b[0m                              Traceback (most recent call last)",
      "\u001b[1;32m<ipython-input-130-c8dcbf77b728>\u001b[0m in \u001b[0;36m<module>\u001b[1;34m()\u001b[0m\n\u001b[0;32m      1\u001b[0m \u001b[1;32mimport\u001b[0m \u001b[0mpandas\u001b[0m \u001b[1;32mas\u001b[0m \u001b[0mpd\u001b[0m\u001b[1;33m\u001b[0m\u001b[0m\n\u001b[0;32m      2\u001b[0m \u001b[0mcountry\u001b[0m \u001b[1;33m=\u001b[0m \u001b[1;34m'Great-Britain'\u001b[0m\u001b[1;33m\u001b[0m\u001b[0m\n\u001b[1;32m----> 3\u001b[1;33m \u001b[0mnodes\u001b[0m \u001b[1;33m=\u001b[0m \u001b[0mpd\u001b[0m\u001b[1;33m.\u001b[0m\u001b[0mread_csv\u001b[0m\u001b[1;33m(\u001b[0m\u001b[1;34m'./Countries/%s/Nodes/heuristic_vertices.csv'\u001b[0m\u001b[1;33m%\u001b[0m\u001b[0mcountry\u001b[0m\u001b[1;33m,\u001b[0m \u001b[0mdelimiter\u001b[0m\u001b[1;33m=\u001b[0m\u001b[1;34m'#'\u001b[0m\u001b[1;33m)\u001b[0m\u001b[1;33m\u001b[0m\u001b[0m\n\u001b[0m",
      "\u001b[1;32mC:\\Anaconda\\lib\\site-packages\\pandas\\io\\parsers.pyc\u001b[0m in \u001b[0;36mparser_f\u001b[1;34m(filepath_or_buffer, sep, dialect, compression, doublequote, escapechar, quotechar, quoting, skipinitialspace, lineterminator, header, index_col, names, prefix, skiprows, skipfooter, skip_footer, na_values, true_values, false_values, delimiter, converters, dtype, usecols, engine, delim_whitespace, as_recarray, na_filter, compact_ints, use_unsigned, low_memory, buffer_lines, warn_bad_lines, error_bad_lines, keep_default_na, thousands, comment, decimal, parse_dates, keep_date_col, dayfirst, date_parser, memory_map, float_precision, nrows, iterator, chunksize, verbose, encoding, squeeze, mangle_dupe_cols, tupleize_cols, infer_datetime_format, skip_blank_lines)\u001b[0m\n\u001b[0;32m    496\u001b[0m                     skip_blank_lines=skip_blank_lines)\n\u001b[0;32m    497\u001b[0m \u001b[1;33m\u001b[0m\u001b[0m\n\u001b[1;32m--> 498\u001b[1;33m         \u001b[1;32mreturn\u001b[0m \u001b[0m_read\u001b[0m\u001b[1;33m(\u001b[0m\u001b[0mfilepath_or_buffer\u001b[0m\u001b[1;33m,\u001b[0m \u001b[0mkwds\u001b[0m\u001b[1;33m)\u001b[0m\u001b[1;33m\u001b[0m\u001b[0m\n\u001b[0m\u001b[0;32m    499\u001b[0m \u001b[1;33m\u001b[0m\u001b[0m\n\u001b[0;32m    500\u001b[0m     \u001b[0mparser_f\u001b[0m\u001b[1;33m.\u001b[0m\u001b[0m__name__\u001b[0m \u001b[1;33m=\u001b[0m \u001b[0mname\u001b[0m\u001b[1;33m\u001b[0m\u001b[0m\n",
      "\u001b[1;32mC:\\Anaconda\\lib\\site-packages\\pandas\\io\\parsers.pyc\u001b[0m in \u001b[0;36m_read\u001b[1;34m(filepath_or_buffer, kwds)\u001b[0m\n\u001b[0;32m    283\u001b[0m         \u001b[1;32mreturn\u001b[0m \u001b[0mparser\u001b[0m\u001b[1;33m\u001b[0m\u001b[0m\n\u001b[0;32m    284\u001b[0m \u001b[1;33m\u001b[0m\u001b[0m\n\u001b[1;32m--> 285\u001b[1;33m     \u001b[1;32mreturn\u001b[0m \u001b[0mparser\u001b[0m\u001b[1;33m.\u001b[0m\u001b[0mread\u001b[0m\u001b[1;33m(\u001b[0m\u001b[1;33m)\u001b[0m\u001b[1;33m\u001b[0m\u001b[0m\n\u001b[0m\u001b[0;32m    286\u001b[0m \u001b[1;33m\u001b[0m\u001b[0m\n\u001b[0;32m    287\u001b[0m _parser_defaults = {\n",
      "\u001b[1;32mC:\\Anaconda\\lib\\site-packages\\pandas\\io\\parsers.pyc\u001b[0m in \u001b[0;36mread\u001b[1;34m(self, nrows)\u001b[0m\n\u001b[0;32m    745\u001b[0m                 \u001b[1;32mraise\u001b[0m \u001b[0mValueError\u001b[0m\u001b[1;33m(\u001b[0m\u001b[1;34m'skip_footer not supported for iteration'\u001b[0m\u001b[1;33m)\u001b[0m\u001b[1;33m\u001b[0m\u001b[0m\n\u001b[0;32m    746\u001b[0m \u001b[1;33m\u001b[0m\u001b[0m\n\u001b[1;32m--> 747\u001b[1;33m         \u001b[0mret\u001b[0m \u001b[1;33m=\u001b[0m \u001b[0mself\u001b[0m\u001b[1;33m.\u001b[0m\u001b[0m_engine\u001b[0m\u001b[1;33m.\u001b[0m\u001b[0mread\u001b[0m\u001b[1;33m(\u001b[0m\u001b[0mnrows\u001b[0m\u001b[1;33m)\u001b[0m\u001b[1;33m\u001b[0m\u001b[0m\n\u001b[0m\u001b[0;32m    748\u001b[0m \u001b[1;33m\u001b[0m\u001b[0m\n\u001b[0;32m    749\u001b[0m         \u001b[1;32mif\u001b[0m \u001b[0mself\u001b[0m\u001b[1;33m.\u001b[0m\u001b[0moptions\u001b[0m\u001b[1;33m.\u001b[0m\u001b[0mget\u001b[0m\u001b[1;33m(\u001b[0m\u001b[1;34m'as_recarray'\u001b[0m\u001b[1;33m)\u001b[0m\u001b[1;33m:\u001b[0m\u001b[1;33m\u001b[0m\u001b[0m\n",
      "\u001b[1;32mC:\\Anaconda\\lib\\site-packages\\pandas\\io\\parsers.pyc\u001b[0m in \u001b[0;36mread\u001b[1;34m(self, nrows)\u001b[0m\n\u001b[0;32m   1195\u001b[0m     \u001b[1;32mdef\u001b[0m \u001b[0mread\u001b[0m\u001b[1;33m(\u001b[0m\u001b[0mself\u001b[0m\u001b[1;33m,\u001b[0m \u001b[0mnrows\u001b[0m\u001b[1;33m=\u001b[0m\u001b[0mNone\u001b[0m\u001b[1;33m)\u001b[0m\u001b[1;33m:\u001b[0m\u001b[1;33m\u001b[0m\u001b[0m\n\u001b[0;32m   1196\u001b[0m         \u001b[1;32mtry\u001b[0m\u001b[1;33m:\u001b[0m\u001b[1;33m\u001b[0m\u001b[0m\n\u001b[1;32m-> 1197\u001b[1;33m             \u001b[0mdata\u001b[0m \u001b[1;33m=\u001b[0m \u001b[0mself\u001b[0m\u001b[1;33m.\u001b[0m\u001b[0m_reader\u001b[0m\u001b[1;33m.\u001b[0m\u001b[0mread\u001b[0m\u001b[1;33m(\u001b[0m\u001b[0mnrows\u001b[0m\u001b[1;33m)\u001b[0m\u001b[1;33m\u001b[0m\u001b[0m\n\u001b[0m\u001b[0;32m   1198\u001b[0m         \u001b[1;32mexcept\u001b[0m \u001b[0mStopIteration\u001b[0m\u001b[1;33m:\u001b[0m\u001b[1;33m\u001b[0m\u001b[0m\n\u001b[0;32m   1199\u001b[0m             \u001b[1;32mif\u001b[0m \u001b[0mself\u001b[0m\u001b[1;33m.\u001b[0m\u001b[0m_first_chunk\u001b[0m\u001b[1;33m:\u001b[0m\u001b[1;33m\u001b[0m\u001b[0m\n",
      "\u001b[1;32mpandas\\parser.pyx\u001b[0m in \u001b[0;36mpandas.parser.TextReader.read (pandas\\parser.c:7988)\u001b[1;34m()\u001b[0m\n",
      "\u001b[1;32mpandas\\parser.pyx\u001b[0m in \u001b[0;36mpandas.parser.TextReader._read_low_memory (pandas\\parser.c:8244)\u001b[1;34m()\u001b[0m\n",
      "\u001b[1;32mpandas\\parser.pyx\u001b[0m in \u001b[0;36mpandas.parser.TextReader._read_rows (pandas\\parser.c:8970)\u001b[1;34m()\u001b[0m\n",
      "\u001b[1;32mpandas\\parser.pyx\u001b[0m in \u001b[0;36mpandas.parser.TextReader._tokenize_rows (pandas\\parser.c:8838)\u001b[1;34m()\u001b[0m\n",
      "\u001b[1;32mpandas\\parser.pyx\u001b[0m in \u001b[0;36mpandas.parser.raise_parser_error (pandas\\parser.c:22649)\u001b[1;34m()\u001b[0m\n",
      "\u001b[1;31mCParserError\u001b[0m: Error tokenizing data. C error: Expected 14 fields in line 2611, saw 17\n"
     ]
    }
   ],
   "source": [
    "import pandas as pd\n",
    "country = 'Great-Britain'\n",
    "nodes = pd.read_csv('./Countries/%s/Nodes/heuristic_vertices.csv'%country, delimiter='#')"
   ]
  },
  {
   "cell_type": "code",
   "execution_count": 545,
   "metadata": {
    "collapsed": false,
    "scrolled": true
   },
   "outputs": [
    {
     "data": {
      "text/plain": [
       "Index([u'v_id', u'lon', u'lat', u'typ', u'voltage', u'frequency', u'name',\n",
       "       u'operator', u'ref', u'source', u'n_gen', u'capacity', u'net_capacity',\n",
       "       u'wkt_srid_4326'],\n",
       "      dtype='object')"
      ]
     },
     "execution_count": 545,
     "metadata": {},
     "output_type": "execute_result"
    }
   ],
   "source": [
    "nodes.columns"
   ]
  },
  {
   "cell_type": "code",
   "execution_count": 546,
   "metadata": {
    "collapsed": true
   },
   "outputs": [],
   "source": [
    "nodes.columns = [ c.replace('_','') for c in nodes.columns ]"
   ]
  },
  {
   "cell_type": "code",
   "execution_count": 547,
   "metadata": {
    "collapsed": false
   },
   "outputs": [
    {
     "data": {
      "text/html": [
       "<div>\n",
       "<table border=\"1\" class=\"dataframe\">\n",
       "  <thead>\n",
       "    <tr style=\"text-align: right;\">\n",
       "      <th></th>\n",
       "      <th>vid</th>\n",
       "      <th>lon</th>\n",
       "      <th>lat</th>\n",
       "      <th>typ</th>\n",
       "      <th>voltage</th>\n",
       "      <th>frequency</th>\n",
       "      <th>name</th>\n",
       "      <th>operator</th>\n",
       "      <th>ref</th>\n",
       "      <th>source</th>\n",
       "      <th>ngen</th>\n",
       "      <th>capacity</th>\n",
       "      <th>netcapacity</th>\n",
       "      <th>wktsrid4326</th>\n",
       "    </tr>\n",
       "  </thead>\n",
       "  <tbody>\n",
       "    <tr>\n",
       "      <th>0</th>\n",
       "      <td>1100</td>\n",
       "      <td>-46.5882596226135</td>\n",
       "      <td>-23.6547036341717</td>\n",
       "      <td>substation</td>\n",
       "      <td></td>\n",
       "      <td></td>\n",
       "      <td></td>\n",
       "      <td></td>\n",
       "      <td></td>\n",
       "      <td></td>\n",
       "      <td></td>\n",
       "      <td></td>\n",
       "      <td></td>\n",
       "      <td>SRID=4326;POINT(-46.5882596226135 -23.65470363...</td>\n",
       "    </tr>\n",
       "    <tr>\n",
       "      <th>1</th>\n",
       "      <td>1312</td>\n",
       "      <td>-57.7285941098742</td>\n",
       "      <td>-25.308209730443</td>\n",
       "      <td>substation</td>\n",
       "      <td></td>\n",
       "      <td></td>\n",
       "      <td></td>\n",
       "      <td></td>\n",
       "      <td></td>\n",
       "      <td></td>\n",
       "      <td></td>\n",
       "      <td></td>\n",
       "      <td></td>\n",
       "      <td>SRID=4326;POINT(-57.7285941098742 -25.30820973...</td>\n",
       "    </tr>\n",
       "    <tr>\n",
       "      <th>2</th>\n",
       "      <td>1313</td>\n",
       "      <td>-47.0533036279079</td>\n",
       "      <td>-22.8594005933012</td>\n",
       "      <td>sub_station</td>\n",
       "      <td></td>\n",
       "      <td></td>\n",
       "      <td></td>\n",
       "      <td>CPFL</td>\n",
       "      <td></td>\n",
       "      <td></td>\n",
       "      <td></td>\n",
       "      <td></td>\n",
       "      <td></td>\n",
       "      <td>SRID=4326;POINT(-47.0533036279079 -22.85940059...</td>\n",
       "    </tr>\n",
       "  </tbody>\n",
       "</table>\n",
       "</div>"
      ],
      "text/plain": [
       "    vid                lon                lat          typ voltage frequency  \\\n",
       "0  1100  -46.5882596226135  -23.6547036341717   substation                     \n",
       "1  1312  -57.7285941098742   -25.308209730443   substation                     \n",
       "2  1313  -47.0533036279079  -22.8594005933012  sub_station                     \n",
       "\n",
       "  name operator ref source ngen capacity netcapacity  \\\n",
       "0                                                      \n",
       "1                                                      \n",
       "2          CPFL                                        \n",
       "\n",
       "                                         wktsrid4326  \n",
       "0  SRID=4326;POINT(-46.5882596226135 -23.65470363...  \n",
       "1  SRID=4326;POINT(-57.7285941098742 -25.30820973...  \n",
       "2  SRID=4326;POINT(-47.0533036279079 -22.85940059...  "
      ]
     },
     "execution_count": 547,
     "metadata": {},
     "output_type": "execute_result"
    }
   ],
   "source": [
    "nodes.head(3)"
   ]
  },
  {
   "cell_type": "code",
   "execution_count": 548,
   "metadata": {
    "collapsed": false
   },
   "outputs": [],
   "source": [
    "nodes['vid'] = nodes['vid'].apply(lambda x:int(x))\n",
    "nodes['lat'] = nodes['lat'].apply(lambda x:float(x))\n",
    "nodes['lon'] = nodes['lon'].apply(lambda x:float(x))"
   ]
  },
  {
   "cell_type": "code",
   "execution_count": 549,
   "metadata": {
    "collapsed": false
   },
   "outputs": [
    {
     "data": {
      "text/plain": [
       "array(['generator', 'joint', 'merge', 'merged_generator', 'plant',\n",
       "       'station', 'sub_station', 'substation'], dtype=object)"
      ]
     },
     "execution_count": 549,
     "metadata": {},
     "output_type": "execute_result"
    }
   ],
   "source": [
    "np.unique(nodes['typ'].values)"
   ]
  },
  {
   "cell_type": "markdown",
   "metadata": {},
   "source": [
    "### Load edge data"
   ]
  },
  {
   "cell_type": "code",
   "execution_count": 550,
   "metadata": {
    "collapsed": false
   },
   "outputs": [],
   "source": [
    "edges=[]\n",
    "with open('./Continents/%s/Edges/heuristic_links.csv'%country, 'rb') as csvfile:\n",
    "    reader = csv.reader(csvfile, delimiter='#')\n",
    "    for row in reader:\n",
    "        if len(row)==18:\n",
    "            edges.append(row)\n",
    "        else:\n",
    "            print row"
   ]
  },
  {
   "cell_type": "code",
   "execution_count": 306,
   "metadata": {
    "collapsed": false
   },
   "outputs": [],
   "source": [
    "edges[0][-1] = edges[0][-1][:4]"
   ]
  },
  {
   "cell_type": "code",
   "execution_count": 311,
   "metadata": {
    "collapsed": false
   },
   "outputs": [],
   "source": [
    "for n in range(1,len(edges)):\n",
    "    edges[n][-1] = edges[n][-1][:4]"
   ]
  },
  {
   "cell_type": "code",
   "execution_count": 551,
   "metadata": {
    "collapsed": false
   },
   "outputs": [],
   "source": [
    "edges = pd.DataFrame(edges[1:], columns=edges[0])"
   ]
  },
  {
   "cell_type": "code",
   "execution_count": 349,
   "metadata": {
    "collapsed": false
   },
   "outputs": [],
   "source": [
    "edges = pd.read_csv('./Countries/%s/Edges/heuristic_links.csv'%country, delimiter='#')"
   ]
  },
  {
   "cell_type": "code",
   "execution_count": 552,
   "metadata": {
    "collapsed": false
   },
   "outputs": [
    {
     "data": {
      "text/plain": [
       "Index([u'l_id', u'v_id_1', u'v_id_2', u'voltage', u'cables', u'wires',\n",
       "       u'frequency', u'name', u'operator', u'ref', u'length_m', u'r_ohmkm',\n",
       "       u'x_ohmkm', u'c_nfkm', u'i_th_max_a', u'from_relation',\n",
       "       u'wkt_srid_4326', u'type'],\n",
       "      dtype='object')"
      ]
     },
     "execution_count": 552,
     "metadata": {},
     "output_type": "execute_result"
    }
   ],
   "source": [
    "edges.columns"
   ]
  },
  {
   "cell_type": "code",
   "execution_count": 553,
   "metadata": {
    "collapsed": true
   },
   "outputs": [],
   "source": [
    "edges.columns = [ c.replace('_','') for c in edges.columns ]"
   ]
  },
  {
   "cell_type": "code",
   "execution_count": 554,
   "metadata": {
    "collapsed": false
   },
   "outputs": [
    {
     "data": {
      "text/html": [
       "<div>\n",
       "<table border=\"1\" class=\"dataframe\">\n",
       "  <thead>\n",
       "    <tr style=\"text-align: right;\">\n",
       "      <th></th>\n",
       "      <th>lid</th>\n",
       "      <th>vid1</th>\n",
       "      <th>vid2</th>\n",
       "      <th>voltage</th>\n",
       "      <th>cables</th>\n",
       "      <th>wires</th>\n",
       "      <th>frequency</th>\n",
       "      <th>name</th>\n",
       "      <th>operator</th>\n",
       "      <th>ref</th>\n",
       "      <th>lengthm</th>\n",
       "      <th>rohmkm</th>\n",
       "      <th>xohmkm</th>\n",
       "      <th>cnfkm</th>\n",
       "      <th>ithmaxa</th>\n",
       "      <th>fromrelation</th>\n",
       "      <th>wktsrid4326</th>\n",
       "      <th>type</th>\n",
       "    </tr>\n",
       "  </thead>\n",
       "  <tbody>\n",
       "    <tr>\n",
       "      <th>0</th>\n",
       "      <td>18572</td>\n",
       "      <td>1809</td>\n",
       "      <td>3117</td>\n",
       "      <td>600000;600000;600000;500000;600000;600000</td>\n",
       "      <td>2;2;2;2;2;2</td>\n",
       "      <td></td>\n",
       "      <td>0;0;0;0;0;0</td>\n",
       "      <td>HVDC Itaipu - Bipole South;HVDC Itaipu - Bipol...</td>\n",
       "      <td></td>\n",
       "      <td></td>\n",
       "      <td>390474.995685663</td>\n",
       "      <td></td>\n",
       "      <td></td>\n",
       "      <td></td>\n",
       "      <td></td>\n",
       "      <td>''</td>\n",
       "      <td>SRID=4326;LINESTRING(-47.1036569392876 -23.665...</td>\n",
       "      <td>line</td>\n",
       "    </tr>\n",
       "    <tr>\n",
       "      <th>1</th>\n",
       "      <td>4775</td>\n",
       "      <td>475</td>\n",
       "      <td>1144</td>\n",
       "      <td>345000</td>\n",
       "      <td>6</td>\n",
       "      <td></td>\n",
       "      <td>60</td>\n",
       "      <td></td>\n",
       "      <td></td>\n",
       "      <td></td>\n",
       "      <td>482.46050864669</td>\n",
       "      <td></td>\n",
       "      <td></td>\n",
       "      <td></td>\n",
       "      <td></td>\n",
       "      <td>''</td>\n",
       "      <td>SRID=4326;LINESTRING(-41.8793936501718 -22.303...</td>\n",
       "      <td>line</td>\n",
       "    </tr>\n",
       "    <tr>\n",
       "      <th>2</th>\n",
       "      <td>17</td>\n",
       "      <td>980</td>\n",
       "      <td>19845</td>\n",
       "      <td></td>\n",
       "      <td></td>\n",
       "      <td></td>\n",
       "      <td></td>\n",
       "      <td></td>\n",
       "      <td></td>\n",
       "      <td></td>\n",
       "      <td>241.052093786014</td>\n",
       "      <td></td>\n",
       "      <td></td>\n",
       "      <td></td>\n",
       "      <td></td>\n",
       "      <td>''</td>\n",
       "      <td>SRID=4326;LINESTRING(-43.3337632608873 -22.805...</td>\n",
       "      <td>line</td>\n",
       "    </tr>\n",
       "  </tbody>\n",
       "</table>\n",
       "</div>"
      ],
      "text/plain": [
       "     lid  vid1   vid2                                    voltage       cables  \\\n",
       "0  18572  1809   3117  600000;600000;600000;500000;600000;600000  2;2;2;2;2;2   \n",
       "1   4775   475   1144                                     345000            6   \n",
       "2     17   980  19845                                                           \n",
       "\n",
       "  wires    frequency                                               name  \\\n",
       "0        0;0;0;0;0;0  HVDC Itaipu - Bipole South;HVDC Itaipu - Bipol...   \n",
       "1                 60                                                      \n",
       "2                                                                         \n",
       "\n",
       "  operator ref           lengthm rohmkm xohmkm cnfkm ithmaxa fromrelation  \\\n",
       "0               390474.995685663                                       ''   \n",
       "1                482.46050864669                                       ''   \n",
       "2               241.052093786014                                       ''   \n",
       "\n",
       "                                         wktsrid4326  type  \n",
       "0  SRID=4326;LINESTRING(-47.1036569392876 -23.665...  line  \n",
       "1  SRID=4326;LINESTRING(-41.8793936501718 -22.303...  line  \n",
       "2  SRID=4326;LINESTRING(-43.3337632608873 -22.805...  line  "
      ]
     },
     "execution_count": 554,
     "metadata": {},
     "output_type": "execute_result"
    }
   ],
   "source": [
    "edges.head(3)"
   ]
  },
  {
   "cell_type": "markdown",
   "metadata": {},
   "source": [
    "### Create a graph"
   ]
  },
  {
   "cell_type": "code",
   "execution_count": 555,
   "metadata": {
    "collapsed": false
   },
   "outputs": [],
   "source": [
    "import networkx as nx\n",
    "G = nx.Graph()\n",
    "G.add_nodes_from([int(i) for i in nodes['vid']])\n",
    "for col in nodes.columns:\n",
    "    if col != 'vid':\n",
    "        nx.set_node_attributes(G, col, {int(k):str(v) for k,v in zip( nodes['vid'], \n",
    "                                                                 nodes[col])})"
   ]
  },
  {
   "cell_type": "code",
   "execution_count": 106,
   "metadata": {
    "collapsed": false
   },
   "outputs": [
    {
     "data": {
      "text/plain": [
       "(131072,\n",
       " {'capacity': '',\n",
       "  'frequency': '50;50',\n",
       "  'lat': '51.1950931654',\n",
       "  'lon': '12.325158247',\n",
       "  'name': '',\n",
       "  'netcapacity': '',\n",
       "  'ngen': '',\n",
       "  'operator': 'MITNETZ',\n",
       "  'ref': '',\n",
       "  'source': '',\n",
       "  'typ': 'joint',\n",
       "  'voltage': '110000;220000',\n",
       "  'wktsrid4326': 'SRID=4326;POINT(12.325158246977 51.1950931654208)'})"
      ]
     },
     "execution_count": 106,
     "metadata": {},
     "output_type": "execute_result"
    }
   ],
   "source": [
    "G.nodes(data=True)[0]"
   ]
  },
  {
   "cell_type": "code",
   "execution_count": 556,
   "metadata": {
    "collapsed": false
   },
   "outputs": [],
   "source": [
    "G.add_edges_from([(int(n1),int(n2)) for n1,n2 in zip(edges['vid1'].values, \n",
    "                                                     edges['vid2'].values)])\n",
    "for col in edges.columns:\n",
    "    if 'vid' not in col:\n",
    "        nx.set_edge_attributes(G, col, {(int(a),int(b)):str(v) for a,b,v in zip(edges['vid1'], \n",
    "                                                                                edges['vid2'],\n",
    "                                                                                edges[col])})"
   ]
  },
  {
   "cell_type": "code",
   "execution_count": 132,
   "metadata": {
    "collapsed": false
   },
   "outputs": [
    {
     "data": {
      "text/plain": [
       "{'cables': '6',\n",
       " 'cnfkm': 'nan',\n",
       " 'frequency': 'nan',\n",
       " 'fromrelation': \"''\",\n",
       " 'ithmaxa': 'nan',\n",
       " 'lengthm': '17589.9636744',\n",
       " 'lid': '218',\n",
       " 'name': 'Ebenfurth - Wien S\\xc3\\xbcdost;Ebreichsdorf - Wien S\\xc3\\xbcdost',\n",
       " 'operator': 'Austrian Power Grid AG',\n",
       " 'ref': '124/1;124/2B',\n",
       " 'rohmkm': 'nan',\n",
       " 'type': 'line',\n",
       " 'voltage': '110000',\n",
       " 'wires': '1',\n",
       " 'wktsrid4326': 'SRID=4326;LINESTRING(16.3747756172182 47.9724185206648,16.4198067864732 48.1238856790383)',\n",
       " 'xohmkm': 'nan'}"
      ]
     },
     "execution_count": 132,
     "metadata": {},
     "output_type": "execute_result"
    }
   ],
   "source": [
    "G.edge[1778][1252]"
   ]
  },
  {
   "cell_type": "code",
   "execution_count": 557,
   "metadata": {
    "collapsed": false
   },
   "outputs": [
    {
     "data": {
      "text/plain": [
       "[]"
      ]
     },
     "execution_count": 557,
     "metadata": {},
     "output_type": "execute_result"
    }
   ],
   "source": [
    "[node[0] for node in G.nodes(data=True) if not node[1].has_key('typ')]"
   ]
  },
  {
   "cell_type": "code",
   "execution_count": 470,
   "metadata": {
    "collapsed": true
   },
   "outputs": [],
   "source": [
    "G.remove_nodes_from([5127,\n",
    " 90069,\n",
    " 93930,\n",
    " 93932,\n",
    " 93933,\n",
    " 93935,\n",
    " 93937,\n",
    " 93938,\n",
    " 93940,\n",
    " 93941,\n",
    " 93942,\n",
    " 93943,\n",
    " 93944,\n",
    " 93945,\n",
    " 93946,\n",
    " 93948,\n",
    " 94112,\n",
    " 123953,\n",
    " 124043,\n",
    " 124044,\n",
    " 124045,\n",
    " 124465])"
   ]
  },
  {
   "cell_type": "code",
   "execution_count": 558,
   "metadata": {
    "collapsed": false
   },
   "outputs": [],
   "source": [
    "generators = [node[0] for node in G.nodes(data=True) \n",
    "                        if node[1]['typ']=='generator' or\n",
    "                           node[1]['typ']=='merged_generator' or\n",
    "                           node[1]['typ']=='plant' or\n",
    "                           node[1]['typ']=='hydro' or\n",
    "                           node[1]['typ']=='hydroelectric' or\n",
    "                           node[1]['typ']=='heliostat']"
   ]
  },
  {
   "cell_type": "code",
   "execution_count": 559,
   "metadata": {
    "collapsed": false
   },
   "outputs": [],
   "source": [
    "stations = [node[0] for node in G.nodes(data=True) \n",
    "                        if node[1]['typ']=='station' or\n",
    "                           node[1]['typ']=='sub_station' or\n",
    "                           node[1]['typ']=='substation']"
   ]
  },
  {
   "cell_type": "code",
   "execution_count": 560,
   "metadata": {
    "collapsed": true
   },
   "outputs": [],
   "source": [
    "others = [node[0] for node in G.nodes(data=True) if node[0] not in generators and \n",
    "                                                    node[0] not in stations]"
   ]
  },
  {
   "cell_type": "code",
   "execution_count": 561,
   "metadata": {
    "collapsed": false
   },
   "outputs": [],
   "source": [
    "assert len(generators) + len(stations) + len(others) == len(G.nodes())"
   ]
  },
  {
   "cell_type": "code",
   "execution_count": 562,
   "metadata": {
    "collapsed": false
   },
   "outputs": [
    {
     "name": "stdout",
     "output_type": "stream",
     "text": [
      "G contains 12669 nodes and 12249 edges\n"
     ]
    }
   ],
   "source": [
    "print 'G contains %d nodes and %d edges'%(G.number_of_nodes(),G.number_of_edges())"
   ]
  },
  {
   "cell_type": "markdown",
   "metadata": {},
   "source": [
    "### Plot the graph"
   ]
  },
  {
   "cell_type": "code",
   "execution_count": 534,
   "metadata": {
    "collapsed": true
   },
   "outputs": [],
   "source": [
    "def get_longitude( node ):\n",
    "    return nodes.ix[ nodes['vid'] == node, 'lon'].values[0]\n",
    "def get_latitude( node ):\n",
    "    return nodes.ix[ nodes['vid'] == node, 'lat'].values[0]"
   ]
  },
  {
   "cell_type": "code",
   "execution_count": 535,
   "metadata": {
    "collapsed": false
   },
   "outputs": [],
   "source": [
    "def get_bb(country):\n",
    "    try:\n",
    "        with open('./Bounding_Boxes.txt', 'r') as f:\n",
    "            bb = map(int, filter(lambda x:country in x, f.readlines())[0].split(';')[1:])\n",
    "        return bb\n",
    "    except:\n",
    "        print 'error while loading bounding box coordinates'\n",
    "        return None"
   ]
  },
  {
   "cell_type": "code",
   "execution_count": 568,
   "metadata": {
    "collapsed": false,
    "scrolled": true
   },
   "outputs": [
    {
     "data": {
      "image/png": "[encoded data removed]",
      "text/plain": [
       "<matplotlib.figure.Figure at 0x3266b4f0>"
      ]
     },
     "metadata": {},
     "output_type": "display_data"
    }
   ],
   "source": [
    "from mpl_toolkits.basemap import Basemap\n",
    "\n",
    "fig = plt.figure(figsize=(10,10))\n",
    "plt.subplots_adjust(left=0.05,right=0.95,top=0.90,bottom=0.05,wspace=0.15,hspace=0.05)\n",
    "ax = plt.subplot(111)\n",
    "\n",
    "#Bounding box\n",
    "#x1, x2, y1, y2 = get_bb(country)\n",
    "x1 = -100\n",
    "x2 = -30\n",
    "y1 = -56\n",
    "y2 = 20\n",
    "\n",
    "m = Basemap(resolution='i',projection='merc', llcrnrlat=y1,urcrnrlat=y2,llcrnrlon=x1,urcrnrlon=x2,lat_ts=20)\n",
    "m.drawcountries(linewidth=2)\n",
    "m.drawcoastlines(linewidth=2)\n",
    "\n",
    "pos = dict((int(node), m(get_longitude( int(node) ), get_latitude( int(node) )) ) for node in G.nodes())\n",
    "\n",
    "nx.draw_networkx_nodes(G, pos, nodelist=generators, node_size = 70, node_color = 'r')\n",
    "nx.draw_networkx_nodes(G, pos, nodelist=stations, node_size = 70, node_color = 'b')\n",
    "nx.draw_networkx_nodes(G, pos, nodelist=others, node_size = 40, node_color = 'w')\n",
    "nx.draw_networkx_edges( G, pos)\n",
    "plt.tight_layout()\n",
    "plt.savefig('./Continents/%s/PNG/South_America_heuristic.png'%(country))\n",
    "plt.show()"
   ]
  },
  {
   "cell_type": "markdown",
   "metadata": {},
   "source": [
    "### Save the graph"
   ]
  },
  {
   "cell_type": "code",
   "execution_count": 569,
   "metadata": {
    "collapsed": false
   },
   "outputs": [],
   "source": [
    "nx.write_gml(G,'./Continents/%s/gml/South_America_heuristic.gml'%(country))"
   ]
  },
  {
   "cell_type": "code",
   "execution_count": 338,
   "metadata": {
    "collapsed": false
   },
   "outputs": [],
   "source": [
    "edges.to_csv('./Countries/%s/Edges/heuristic_links2.csv'%(country),\n",
    "             index=False, sep='#')"
   ]
  },
  {
   "cell_type": "code",
   "execution_count": 339,
   "metadata": {
    "collapsed": true
   },
   "outputs": [],
   "source": [
    "nodes2 = pd.read_csv('./Countries/%s/Edges/heuristic_links2.csv'%country, delimiter='#')"
   ]
  },
  {
   "cell_type": "code",
   "execution_count": 340,
   "metadata": {
    "collapsed": false
   },
   "outputs": [
    {
     "data": {
      "text/plain": [
       "4768"
      ]
     },
     "execution_count": 340,
     "metadata": {},
     "output_type": "execute_result"
    }
   ],
   "source": [
    "len(nodes2)"
   ]
  },
  {
   "cell_type": "code",
   "execution_count": null,
   "metadata": {
    "collapsed": true
   },
   "outputs": [],
   "source": []
  }
 ],
 "metadata": {
  "kernelspec": {
   "display_name": "Python 2",
   "language": "python",
   "name": "python2"
  },
  "language_info": {
   "codemirror_mode": {
    "name": "ipython",
    "version": 2
   },
   "file_extension": ".py",
   "mimetype": "text/x-python",
   "name": "python",
   "nbconvert_exporter": "python",
   "pygments_lexer": "ipython2",
   "version": "2.7.11"
  }
 },
 "nbformat": 4,
 "nbformat_minor": 0
}
